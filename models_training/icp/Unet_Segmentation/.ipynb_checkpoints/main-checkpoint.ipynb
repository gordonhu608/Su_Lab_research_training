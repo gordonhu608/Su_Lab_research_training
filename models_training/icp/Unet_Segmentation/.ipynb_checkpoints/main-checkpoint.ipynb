{
 "cells": [
  {
   "cell_type": "code",
   "execution_count": 1,
   "id": "03ac340d",
   "metadata": {},
   "outputs": [],
   "source": [
    "%load_ext autoreload\n",
    "%autoreload 2\n",
    "\n",
    "from experiment import Experiment"
   ]
  },
  {
   "cell_type": "code",
   "execution_count": 1,
   "id": "a8aec436",
   "metadata": {},
   "outputs": [
    {
     "data": {
      "text/plain": [
       "True"
      ]
     },
     "execution_count": 1,
     "metadata": {},
     "output_type": "execute_result"
    }
   ],
   "source": [
    "import torch\n",
    "torch.cuda.is_available()"
   ]
  },
  {
   "cell_type": "code",
   "execution_count": 3,
   "id": "dc07164f",
   "metadata": {
    "scrolled": true
   },
   "outputs": [
    {
     "name": "stdout",
     "output_type": "stream",
     "text": [
      "Running Experiment:  v2\n"
     ]
    }
   ],
   "source": [
    "exp_name = 'v2'\n",
    "print(\"Running Experiment: \", exp_name)\n",
    "exp = Experiment(exp_name)"
   ]
  },
  {
   "cell_type": "code",
   "execution_count": 4,
   "id": "067925ee",
   "metadata": {
    "scrolled": false
   },
   "outputs": [
    {
     "name": "stdout",
     "output_type": "stream",
     "text": [
      "start epoch: 0\n"
     ]
    },
    {
     "data": {
      "application/vnd.jupyter.widget-view+json": {
       "model_id": "9751ff2a0d5a487eb24c8f23da0dbb9b",
       "version_major": 2,
       "version_minor": 0
      },
      "text/plain": [
       "Epoch 0/3:   0%|          | 0/31795 [00:00<?, ?img/s]"
      ]
     },
     "metadata": {},
     "output_type": "display_data"
    },
    {
     "data": {
      "application/vnd.jupyter.widget-view+json": {
       "model_id": "",
       "version_major": 2,
       "version_minor": 0
      },
      "text/plain": [
       "Validation round:   0%|          | 0/451 [00:00<?, ?batch/s]"
      ]
     },
     "metadata": {},
     "output_type": "display_data"
    },
    {
     "data": {
      "application/vnd.jupyter.widget-view+json": {
       "model_id": "",
       "version_major": 2,
       "version_minor": 0
      },
      "text/plain": [
       "Validation round:   0%|          | 0/451 [00:00<?, ?batch/s]"
      ]
     },
     "metadata": {},
     "output_type": "display_data"
    },
    {
     "data": {
      "application/vnd.jupyter.widget-view+json": {
       "model_id": "",
       "version_major": 2,
       "version_minor": 0
      },
      "text/plain": [
       "Validation round:   0%|          | 0/451 [00:00<?, ?batch/s]"
      ]
     },
     "metadata": {},
     "output_type": "display_data"
    },
    {
     "data": {
      "application/vnd.jupyter.widget-view+json": {
       "model_id": "",
       "version_major": 2,
       "version_minor": 0
      },
      "text/plain": [
       "Validation round:   0%|          | 0/451 [00:00<?, ?batch/s]"
      ]
     },
     "metadata": {},
     "output_type": "display_data"
    },
    {
     "data": {
      "application/vnd.jupyter.widget-view+json": {
       "model_id": "",
       "version_major": 2,
       "version_minor": 0
      },
      "text/plain": [
       "Validation round:   0%|          | 0/451 [00:00<?, ?batch/s]"
      ]
     },
     "metadata": {},
     "output_type": "display_data"
    },
    {
     "data": {
      "application/vnd.jupyter.widget-view+json": {
       "model_id": "",
       "version_major": 2,
       "version_minor": 0
      },
      "text/plain": [
       "Validation round:   0%|          | 0/451 [00:00<?, ?batch/s]"
      ]
     },
     "metadata": {},
     "output_type": "display_data"
    },
    {
     "data": {
      "application/vnd.jupyter.widget-view+json": {
       "model_id": "",
       "version_major": 2,
       "version_minor": 0
      },
      "text/plain": [
       "Validation round:   0%|          | 0/451 [00:00<?, ?batch/s]"
      ]
     },
     "metadata": {},
     "output_type": "display_data"
    },
    {
     "data": {
      "application/vnd.jupyter.widget-view+json": {
       "model_id": "",
       "version_major": 2,
       "version_minor": 0
      },
      "text/plain": [
       "Validation round:   0%|          | 0/451 [00:00<?, ?batch/s]"
      ]
     },
     "metadata": {},
     "output_type": "display_data"
    },
    {
     "data": {
      "application/vnd.jupyter.widget-view+json": {
       "model_id": "",
       "version_major": 2,
       "version_minor": 0
      },
      "text/plain": [
       "Validation round:   0%|          | 0/451 [00:00<?, ?batch/s]"
      ]
     },
     "metadata": {},
     "output_type": "display_data"
    },
    {
     "data": {
      "application/vnd.jupyter.widget-view+json": {
       "model_id": "",
       "version_major": 2,
       "version_minor": 0
      },
      "text/plain": [
       "Validation round:   0%|          | 0/451 [00:00<?, ?batch/s]"
      ]
     },
     "metadata": {},
     "output_type": "display_data"
    },
    {
     "data": {
      "application/vnd.jupyter.widget-view+json": {
       "model_id": "",
       "version_major": 2,
       "version_minor": 0
      },
      "text/plain": [
       "Validation round:   0%|          | 0/451 [00:00<?, ?batch/s]"
      ]
     },
     "metadata": {},
     "output_type": "display_data"
    },
    {
     "data": {
      "image/png": "[encoded data removed]",
      "text/plain": [
       "<Figure size 432x288 with 1 Axes>"
      ]
     },
     "metadata": {
      "needs_background": "light"
     },
     "output_type": "display_data"
    },
    {
     "name": "stdout",
     "output_type": "stream",
     "text": [
      "Epoch: 1, Train Loss: 0.8475398464890632, Val Loss: 0.9754939079284668,Took 0:49:45.609745, ETA: 1:39:31.219490\n",
      "\n",
      "start epoch: 1\n"
     ]
    },
    {
     "data": {
      "application/vnd.jupyter.widget-view+json": {
       "model_id": "bdd7b9a36348413abc415b9cf53fffd2",
       "version_major": 2,
       "version_minor": 0
      },
      "text/plain": [
       "Epoch 1/3:   0%|          | 0/31795 [00:00<?, ?img/s]"
      ]
     },
     "metadata": {},
     "output_type": "display_data"
    },
    {
     "data": {
      "application/vnd.jupyter.widget-view+json": {
       "model_id": "",
       "version_major": 2,
       "version_minor": 0
      },
      "text/plain": [
       "Validation round:   0%|          | 0/451 [00:00<?, ?batch/s]"
      ]
     },
     "metadata": {},
     "output_type": "display_data"
    },
    {
     "data": {
      "application/vnd.jupyter.widget-view+json": {
       "model_id": "",
       "version_major": 2,
       "version_minor": 0
      },
      "text/plain": [
       "Validation round:   0%|          | 0/451 [00:00<?, ?batch/s]"
      ]
     },
     "metadata": {},
     "output_type": "display_data"
    },
    {
     "data": {
      "application/vnd.jupyter.widget-view+json": {
       "model_id": "",
       "version_major": 2,
       "version_minor": 0
      },
      "text/plain": [
       "Validation round:   0%|          | 0/451 [00:00<?, ?batch/s]"
      ]
     },
     "metadata": {},
     "output_type": "display_data"
    },
    {
     "data": {
      "application/vnd.jupyter.widget-view+json": {
       "model_id": "",
       "version_major": 2,
       "version_minor": 0
      },
      "text/plain": [
       "Validation round:   0%|          | 0/451 [00:00<?, ?batch/s]"
      ]
     },
     "metadata": {},
     "output_type": "display_data"
    },
    {
     "data": {
      "application/vnd.jupyter.widget-view+json": {
       "model_id": "",
       "version_major": 2,
       "version_minor": 0
      },
      "text/plain": [
       "Validation round:   0%|          | 0/451 [00:00<?, ?batch/s]"
      ]
     },
     "metadata": {},
     "output_type": "display_data"
    },
    {
     "data": {
      "application/vnd.jupyter.widget-view+json": {
       "model_id": "",
       "version_major": 2,
       "version_minor": 0
      },
      "text/plain": [
       "Validation round:   0%|          | 0/451 [00:00<?, ?batch/s]"
      ]
     },
     "metadata": {},
     "output_type": "display_data"
    },
    {
     "data": {
      "application/vnd.jupyter.widget-view+json": {
       "model_id": "",
       "version_major": 2,
       "version_minor": 0
      },
      "text/plain": [
       "Validation round:   0%|          | 0/451 [00:00<?, ?batch/s]"
      ]
     },
     "metadata": {},
     "output_type": "display_data"
    },
    {
     "data": {
      "application/vnd.jupyter.widget-view+json": {
       "model_id": "",
       "version_major": 2,
       "version_minor": 0
      },
      "text/plain": [
       "Validation round:   0%|          | 0/451 [00:00<?, ?batch/s]"
      ]
     },
     "metadata": {},
     "output_type": "display_data"
    },
    {
     "data": {
      "application/vnd.jupyter.widget-view+json": {
       "model_id": "",
       "version_major": 2,
       "version_minor": 0
      },
      "text/plain": [
       "Validation round:   0%|          | 0/451 [00:00<?, ?batch/s]"
      ]
     },
     "metadata": {},
     "output_type": "display_data"
    },
    {
     "data": {
      "application/vnd.jupyter.widget-view+json": {
       "model_id": "",
       "version_major": 2,
       "version_minor": 0
      },
      "text/plain": [
       "Validation round:   0%|          | 0/451 [00:00<?, ?batch/s]"
      ]
     },
     "metadata": {},
     "output_type": "display_data"
    },
    {
     "data": {
      "application/vnd.jupyter.widget-view+json": {
       "model_id": "",
       "version_major": 2,
       "version_minor": 0
      },
      "text/plain": [
       "Validation round:   0%|          | 0/451 [00:00<?, ?batch/s]"
      ]
     },
     "metadata": {},
     "output_type": "display_data"
    },
    {
     "data": {
      "image/png": "[encoded data removed]",
      "text/plain": [
       "<Figure size 432x288 with 1 Axes>"
      ]
     },
     "metadata": {
      "needs_background": "light"
     },
     "output_type": "display_data"
    },
    {
     "name": "stdout",
     "output_type": "stream",
     "text": [
      "Epoch: 2, Train Loss: 0.609614042200852, Val Loss: 0.9865006804466248,Took 0:49:58.562493, ETA: 0:49:58.562493\n",
      "\n",
      "start epoch: 2\n"
     ]
    },
    {
     "data": {
      "application/vnd.jupyter.widget-view+json": {
       "model_id": "5993889320c64355ba45b6c0b0e9c1da",
       "version_major": 2,
       "version_minor": 0
      },
      "text/plain": [
       "Epoch 2/3:   0%|          | 0/31795 [00:00<?, ?img/s]"
      ]
     },
     "metadata": {},
     "output_type": "display_data"
    },
    {
     "data": {
      "application/vnd.jupyter.widget-view+json": {
       "model_id": "",
       "version_major": 2,
       "version_minor": 0
      },
      "text/plain": [
       "Validation round:   0%|          | 0/451 [00:00<?, ?batch/s]"
      ]
     },
     "metadata": {},
     "output_type": "display_data"
    },
    {
     "data": {
      "application/vnd.jupyter.widget-view+json": {
       "model_id": "",
       "version_major": 2,
       "version_minor": 0
      },
      "text/plain": [
       "Validation round:   0%|          | 0/451 [00:00<?, ?batch/s]"
      ]
     },
     "metadata": {},
     "output_type": "display_data"
    },
    {
     "data": {
      "application/vnd.jupyter.widget-view+json": {
       "model_id": "",
       "version_major": 2,
       "version_minor": 0
      },
      "text/plain": [
       "Validation round:   0%|          | 0/451 [00:00<?, ?batch/s]"
      ]
     },
     "metadata": {},
     "output_type": "display_data"
    },
    {
     "data": {
      "application/vnd.jupyter.widget-view+json": {
       "model_id": "",
       "version_major": 2,
       "version_minor": 0
      },
      "text/plain": [
       "Validation round:   0%|          | 0/451 [00:00<?, ?batch/s]"
      ]
     },
     "metadata": {},
     "output_type": "display_data"
    },
    {
     "data": {
      "application/vnd.jupyter.widget-view+json": {
       "model_id": "",
       "version_major": 2,
       "version_minor": 0
      },
      "text/plain": [
       "Validation round:   0%|          | 0/451 [00:00<?, ?batch/s]"
      ]
     },
     "metadata": {},
     "output_type": "display_data"
    },
    {
     "data": {
      "application/vnd.jupyter.widget-view+json": {
       "model_id": "",
       "version_major": 2,
       "version_minor": 0
      },
      "text/plain": [
       "Validation round:   0%|          | 0/451 [00:00<?, ?batch/s]"
      ]
     },
     "metadata": {},
     "output_type": "display_data"
    },
    {
     "data": {
      "application/vnd.jupyter.widget-view+json": {
       "model_id": "",
       "version_major": 2,
       "version_minor": 0
      },
      "text/plain": [
       "Validation round:   0%|          | 0/451 [00:00<?, ?batch/s]"
      ]
     },
     "metadata": {},
     "output_type": "display_data"
    },
    {
     "data": {
      "application/vnd.jupyter.widget-view+json": {
       "model_id": "",
       "version_major": 2,
       "version_minor": 0
      },
      "text/plain": [
       "Validation round:   0%|          | 0/451 [00:00<?, ?batch/s]"
      ]
     },
     "metadata": {},
     "output_type": "display_data"
    },
    {
     "data": {
      "application/vnd.jupyter.widget-view+json": {
       "model_id": "",
       "version_major": 2,
       "version_minor": 0
      },
      "text/plain": [
       "Validation round:   0%|          | 0/451 [00:00<?, ?batch/s]"
      ]
     },
     "metadata": {},
     "output_type": "display_data"
    },
    {
     "data": {
      "application/vnd.jupyter.widget-view+json": {
       "model_id": "",
       "version_major": 2,
       "version_minor": 0
      },
      "text/plain": [
       "Validation round:   0%|          | 0/451 [00:00<?, ?batch/s]"
      ]
     },
     "metadata": {},
     "output_type": "display_data"
    },
    {
     "data": {
      "application/vnd.jupyter.widget-view+json": {
       "model_id": "",
       "version_major": 2,
       "version_minor": 0
      },
      "text/plain": [
       "Validation round:   0%|          | 0/451 [00:00<?, ?batch/s]"
      ]
     },
     "metadata": {},
     "output_type": "display_data"
    },
    {
     "data": {
      "image/png": "[encoded data removed]",
      "text/plain": [
       "<Figure size 432x288 with 1 Axes>"
      ]
     },
     "metadata": {
      "needs_background": "light"
     },
     "output_type": "display_data"
    },
    {
     "name": "stdout",
     "output_type": "stream",
     "text": [
      "Epoch: 3, Train Loss: 0.5995520094098168, Val Loss: 0.9895434379577637,Took 0:50:06.235647, ETA: 0:00:00\n",
      "\n"
     ]
    }
   ],
   "source": [
    "#torch.backends.cudnn.deterministic = True\n",
    "exp.run()"
   ]
  },
  {
   "cell_type": "code",
   "execution_count": 8,
   "id": "21727c71",
   "metadata": {},
   "outputs": [
    {
     "data": {
      "application/vnd.jupyter.widget-view+json": {
       "model_id": "20cac5ea370d49dab36343bc198f1a68",
       "version_major": 2,
       "version_minor": 0
      },
      "text/plain": [
       "  0%|          | 0/600 [00:00<?, ?it/s]"
      ]
     },
     "metadata": {},
     "output_type": "display_data"
    }
   ],
   "source": [
    "exp.generate()"
   ]
  },
  {
   "cell_type": "code",
   "execution_count": 7,
   "id": "6765c1e4",
   "metadata": {},
   "outputs": [
    {
     "data": {
      "application/vnd.jupyter.widget-view+json": {
       "model_id": "93ab967254484b98ad4c2f0cfd381eae",
       "version_major": 2,
       "version_minor": 0
      },
      "text/plain": [
       "  0%|          | 0/600 [00:00<?, ?it/s]"
      ]
     },
     "metadata": {},
     "output_type": "display_data"
    }
   ],
   "source": [
    "exp.generate()"
   ]
  },
  {
   "cell_type": "code",
   "execution_count": null,
   "id": "672ef982",
   "metadata": {},
   "outputs": [],
   "source": []
  },
  {
   "cell_type": "code",
   "execution_count": 8,
   "id": "c764f21f",
   "metadata": {},
   "outputs": [],
   "source": [
    "import os\n",
    "import csv\n",
    "import trimesh\n",
    "from trimesh.exchange.dae import load_collada\n",
    "from trimesh.resolvers import FilePathResolver\n",
    "from trimesh.sample import sample_surface\n",
    "import open3d\n",
    "from tqdm.notebook import tqdm\n",
    "import numpy as np\n",
    "import matplotlib.pyplot as plt\n",
    "import os\n",
    "from PIL import Image\n",
    "import pickle\n",
    "import utils\n",
    "from numpy.linalg import inv\n",
    "\n",
    "def load_pickle(filename):\n",
    "    with open(filename, 'rb') as f:\n",
    "        return pickle.load(f)\n",
    "    \n",
    "def to_homog(points):\n",
    "    # N: number of points\n",
    "    ones = np.ones((points.shape[0],1))\n",
    "    points_homog = np.concatenate([points, ones], axis=-1)\n",
    "    return points_homog\n",
    "def rand_rotation_matrix():\n",
    "    # based on http://www.realtimerendering.com/resources/GraphicsGems/gemsiii/rand_rotation.c\n",
    "    a, b, c = np.random.uniform(size=(3,))\n",
    "    \n",
    "    a = a* 2 * np.pi\n",
    "    b = b* 2 * np.pi\n",
    "    c = c * 2.0\n",
    "    \n",
    "    r = np.sqrt(c)\n",
    "    V = (\n",
    "        np.sin(b) * r,\n",
    "        np.cos(b) * r,\n",
    "        np.sqrt(2.0 - c)\n",
    "        )\n",
    "    \n",
    "    # http://blog.lostinmyterminal.com/python/2015/05/12/random-rotation-matrix.html\n",
    "    st = np.sin(a)\n",
    "    ct = np.cos(a)\n",
    "    \n",
    "    R = np.array(((ct, st, 0), (-st, ct, 0), (0, 0, 1)))\n",
    "    \n",
    "    M = (np.outer(V, V) - np.eye(3)).dot(R)\n",
    "    return M"
   ]
  },
  {
   "cell_type": "code",
   "execution_count": 9,
   "id": "253f035d",
   "metadata": {},
   "outputs": [],
   "source": [
    "test_path = 'D:/291dataset/testing_data_final(2022)/testing_data_final/v2.2/'\n",
    "label_path = 'D:/Pytorch-UNet-master/generation/v2/'\n",
    "path = 'D:/291dataset'"
   ]
  },
  {
   "cell_type": "code",
   "execution_count": 10,
   "id": "ef38ccb0",
   "metadata": {},
   "outputs": [],
   "source": [
    "test_prefix = np.unique([x.split('_')[0] for x in os.listdir(test_path)])"
   ]
  },
  {
   "cell_type": "code",
   "execution_count": 11,
   "id": "0f3e2281",
   "metadata": {},
   "outputs": [],
   "source": [
    "def init_trans_20(source, target):\n",
    "    trans_list = []\n",
    "    translation = target.get_center() - source.get_center()\n",
    "    trans_init = np.asarray([[1.0, 0.0, 0.0, translation[0]],\n",
    "                        [0.0, 1.0, 0.0, translation[1]],\n",
    "                        [0.0, 0.0, 1.0, translation[2]],\n",
    "                        [0.0, 0.0, 0.0, 1.0]])\n",
    "    trans_list.append(trans_init)\n",
    "    for _ in range(19):\n",
    "        init_rotation = rand_rotation_matrix()\n",
    "        rt = np.concatenate([init_rotation, translation.reshape(1,-1).T], axis=1)\n",
    "        trans_init = np.concatenate([rt, np.array([[0.0, 0.0, 0.0, 1.0]])], axis=0) \n",
    "        trans_list.append(trans_init)\n",
    "    \n",
    "    return trans_list"
   ]
  },
  {
   "cell_type": "code",
   "execution_count": 14,
   "id": "2ac4c2ad",
   "metadata": {},
   "outputs": [
    {
     "data": {
      "application/vnd.jupyter.widget-view+json": {
       "model_id": "e6b0a1d654ca4d608f408231896c8f54",
       "version_major": 2,
       "version_minor": 0
      },
      "text/plain": [
       "  0%|          | 0/600 [00:00<?, ?it/s]"
      ]
     },
     "metadata": {},
     "output_type": "display_data"
    }
   ],
   "source": [
    "from tqdm.notebook import tqdm\n",
    "import torchvision.transforms as transforms\n",
    "#crop = transforms.CenterCrop((450, 800))\n",
    "\n",
    "out = {}\n",
    "threshold = 0.3\n",
    "for p in tqdm(test_prefix):\n",
    "    #rgb_test = test_path + p + \"_color_kinect.png\" \n",
    "    depth_test = test_path + p + \"_depth_kinect.png\" \n",
    "    label_test = label_path + p + \"_label_kinect.png\" \n",
    "    meta_test = test_path + p + \"_meta.pkl\" \n",
    "    \n",
    "    #rgb = np.array(Image.open(rgb_test)) / 255   # convert 0-255 to 0-1\n",
    "    depth = np.array(Image.open(depth_test)) / 1000   # convert from mm to m\n",
    "    label = np.array(Image.open(label_test))\n",
    "    meta = load_pickle(meta_test)\n",
    "    \n",
    "    values = []\n",
    "    name_id = 0\n",
    "    for i in range(79):\n",
    "        if i not in meta['object_ids']:\n",
    "            values.append(None)\n",
    "        else:\n",
    "            name = meta['object_names'][name_id]\n",
    "            \n",
    "            intrinsic = meta['intrinsic']\n",
    "            extrinsic = meta['extrinsic']\n",
    "            \n",
    "            z = depth\n",
    "            v, u = np.indices(z.shape)\n",
    "            uv1 = np.stack([u + 0.5, v + 0.5, np.ones_like(z)], axis=-1)\n",
    "            points_viewer = uv1 @ np.linalg.inv(intrinsic).T * z[..., None]  \n",
    "            viewer_points = to_homog(points_viewer.reshape(-1, 3))\n",
    "            world_points = viewer_points @ np.linalg.inv(extrinsic).T\n",
    "            world_points = world_points[:, :3]\n",
    "            label = label.reshape(-1)\n",
    "            indices = np.nonzero(label == i)\n",
    "            world_points_object = world_points [indices]\n",
    "            #object_colors = rgb.reshape([-1, 3])[indices]\n",
    "            \n",
    "            points = open3d.utility.Vector3dVector(world_points_object) \n",
    "            #colors = open3d.utility.Vector3dVector(object_colors)\n",
    "            source  = open3d.geometry.PointCloud()\n",
    "            source.points = points\n",
    "            #source.colors = colors\n",
    "\n",
    "            model_dir = path + '/models/' + name\n",
    "            mesh_path = os.path.join(model_dir, 'visual_meshes', 'visual.dae')\n",
    "            resolver = FilePathResolver(os.path.join(model_dir, 'visual_meshes'))\n",
    "            data = load_collada(mesh_path, resolver)\n",
    "            geometry = data['geometry'][data['graph'][0]['geometry']]\n",
    "            mesh = trimesh.Trimesh(**geometry)\n",
    "            \n",
    "            target = open3d.geometry.PointCloud()\n",
    "            target_points, _ = sample_surface(mesh, 1024)\n",
    "            target.points = open3d.utility.Vector3dVector(target_points * meta['scales'][i]) \n",
    "\n",
    "            best_rmse = 10000\n",
    "            best_iter = None\n",
    "            \n",
    "            trans_list = init_trans_20(source, target)\n",
    "            #translation = target.get_center() - source.get_center()\n",
    "\n",
    "            for begin_trans in trans_list:\n",
    "                threshold = 1\n",
    "                iter1 = open3d.pipelines.registration.registration_icp(\n",
    "                    source, target, threshold, begin_trans,\n",
    "                    open3d.pipelines.registration.TransformationEstimationPointToPoint(),\n",
    "                    open3d.pipelines.registration.ICPConvergenceCriteria(max_iteration=20))\n",
    "\n",
    "                threshold = 0.2\n",
    "                iter2 = open3d.pipelines.registration.registration_icp(\n",
    "                    source, target, threshold, iter1.transformation,\n",
    "                    open3d.pipelines.registration.TransformationEstimationPointToPoint(),\n",
    "                    open3d.pipelines.registration.ICPConvergenceCriteria(max_iteration=500))\n",
    "\n",
    "                if iter2.inlier_rmse < best_rmse:\n",
    "                    best_iter = iter2\n",
    "                    best_rmse = iter2.inlier_rmse\n",
    "          \n",
    "            T = best_iter.transformation\n",
    "            values.append(inv(T).tolist())\n",
    "            name_id += 1\n",
    "            \n",
    "    inner = {'poses_world': values}\n",
    "    out[p] = inner "
   ]
  },
  {
   "cell_type": "code",
   "execution_count": 15,
   "id": "5b6a13ac",
   "metadata": {},
   "outputs": [],
   "source": [
    "import json\n",
    "with open('v2_hw3_2layer.json', 'w') as outfile: \n",
    "    json.dump(out, outfile)"
   ]
  },
  {
   "cell_type": "code",
   "execution_count": 16,
   "id": "89d3738f",
   "metadata": {},
   "outputs": [],
   "source": [
    "z_180 = np.array([[1, 0, 0],\n",
    "                  [0, 1, -np.sin(np.pi)], \n",
    "                  [0, 0, np.cos(np.pi)]] )\n",
    "z_90 = np.array([[1, 0, 0],\n",
    "                  [0, 1, -np.sin(np.pi/2)], \n",
    "                  [0, 0, np.cos(np.pi/2)]] )\n",
    "z_270 = np.array([[1, 0, 0],\n",
    "                  [0, 1, -np.sin(np.pi * 3 / 2)], \n",
    "                  [0, 0, np.cos(np.pi *3 / 2)]] )"
   ]
  },
  {
   "cell_type": "code",
   "execution_count": 17,
   "id": "664e11a3",
   "metadata": {},
   "outputs": [],
   "source": [
    "z_axis = [z_180, z_90, z_270]"
   ]
  },
  {
   "cell_type": "code",
   "execution_count": null,
   "id": "93f0783f",
   "metadata": {},
   "outputs": [
    {
     "data": {
      "application/vnd.jupyter.widget-view+json": {
       "model_id": "ff150c9a73624049b78acaaf02e7dab5",
       "version_major": 2,
       "version_minor": 0
      },
      "text/plain": [
       "  0%|          | 0/600 [00:00<?, ?it/s]"
      ]
     },
     "metadata": {},
     "output_type": "display_data"
    }
   ],
   "source": [
    "from tqdm.notebook import tqdm\n",
    "out = {}\n",
    "threshold = 1\n",
    "voxel_size = 0.01\n",
    "pause = 1.43e-3\n",
    "def init_trans_20(source, target):\n",
    "    trans_list = []\n",
    "    translation = target.get_center() - source.get_center()\n",
    "    trans_init = np.asarray([[1.0, 0.0, 0.0, translation[0]],\n",
    "                        [0.0, 1.0, 0.0, translation[1]],\n",
    "                        [0.0, 0.0, 1.0, translation[2]],\n",
    "                        [0.0, 0.0, 0.0, 1.0]])\n",
    "    trans_list.append(trans_init)\n",
    "    for _ in range(19):\n",
    "        init_rotation = rand_rotation_matrix()\n",
    "        rt = np.concatenate([init_rotation, translation.reshape(1,-1).T], axis=1)\n",
    "        trans_init = np.concatenate([rt, np.array([[0.0, 0.0, 0.0, 1.0]])], axis=0) \n",
    "        trans_list.append(trans_init)\n",
    "    \n",
    "    return trans_list\n",
    "\n",
    "for p in tqdm(test_prefix):\n",
    "    depth_test = test_path + p + \"_depth_kinect.png\"\n",
    "    label_test = label_path + p + \"_label_kinect.png\"\n",
    "    meta_test = test_path + p + \"_meta.pkl\"\n",
    "\n",
    "    depth = np.array(Image.open(depth_test)) / 1000\n",
    "    label = np.array(Image.open(label_test))\n",
    "    meta = load_pickle(meta_test)\n",
    "\n",
    "    values = []\n",
    "    name_id = 0\n",
    "    for i in range(79):\n",
    "        if i not in meta['object_ids']:\n",
    "            values.append(None)\n",
    "        else:\n",
    "            name = meta['object_names'][name_id]\n",
    "\n",
    "            intrinsic = meta['intrinsic']\n",
    "            extrinsic = meta['extrinsic']\n",
    "            z = depth\n",
    "            v, u = np.indices(z.shape)\n",
    "            uv1 = np.stack([u + 0.5, v + 0.5, np.ones_like(z)], axis=-1)\n",
    "            points_viewer = uv1 @ np.linalg.inv(intrinsic).T * z[..., None]\n",
    "            viewer_points = to_homog(points_viewer.reshape(-1, 3))\n",
    "            world_points = viewer_points @ np.linalg.inv(extrinsic).T\n",
    "            world_points = world_points[:, :3]\n",
    "            indices = np.nonzero(label.reshape(-1) == i)\n",
    "            world_points_object = world_points[indices]\n",
    "\n",
    "            points = open3d.utility.Vector3dVector(world_points_object * (1 / meta['scales'][i]))\n",
    "            source = open3d.geometry.PointCloud()\n",
    "            source.points = points\n",
    "\n",
    "            model_dir = path + '/models/' + name\n",
    "            mesh_path = os.path.join(model_dir, 'visual_meshes', 'visual.dae')\n",
    "            resolver = FilePathResolver(os.path.join(model_dir, 'visual_meshes'))\n",
    "            data = load_collada(mesh_path, resolver)\n",
    "            geometry = data['geometry'][data['graph'][0]['geometry']]\n",
    "            mesh = trimesh.Trimesh(**geometry)\n",
    "\n",
    "            target = open3d.geometry.PointCloud()\n",
    "            target_points, _ = sample_surface(mesh, 1024)\n",
    "            target.points = open3d.utility.Vector3dVector(target_points)\n",
    "\n",
    "            best_rmse = 10000\n",
    "            best_iter = None\n",
    "\n",
    "            trans_list = init_trans_20(source, target)\n",
    "            translation = target.get_center() - source.get_center()\n",
    "\n",
    "            for begin_trans in trans_list:\n",
    "                threshold = 1\n",
    "                iter1 = open3d.pipelines.registration.registration_icp(\n",
    "                    source, target, threshold, begin_trans,\n",
    "                    open3d.pipelines.registration.TransformationEstimationPointToPoint(),\n",
    "                    open3d.pipelines.registration.ICPConvergenceCriteria(max_iteration=20))\n",
    "\n",
    "                threshold = 0.2\n",
    "                iter2 = open3d.pipelines.registration.registration_icp(\n",
    "                    source, target, threshold, iter1.transformation,\n",
    "                    open3d.pipelines.registration.TransformationEstimationPointToPoint(),\n",
    "                    open3d.pipelines.registration.ICPConvergenceCriteria(max_iteration=500))\n",
    "\n",
    "                if iter2.inlier_rmse < best_rmse:\n",
    "                    best_iter = iter2\n",
    "                    best_rmse = iter2.inlier_rmse\n",
    "\n",
    "                iter1_r = iter1.transformation[:3, :3]\n",
    "                for z_r in z_axis:\n",
    "                    new_r = z_r @ iter1_r\n",
    "                    rt = np.concatenate([new_r, translation.reshape(1, -1).T], axis=1)\n",
    "                    trans_init = np.concatenate([rt, np.array([[0.0, 0.0, 0.0, 1.0]])], axis=0)\n",
    "\n",
    "                    threshold = 0.2\n",
    "                    iter2 = open3d.pipelines.registration.registration_icp(\n",
    "                        source, target, threshold, trans_init,\n",
    "                        open3d.pipelines.registration.TransformationEstimationPointToPoint(),\n",
    "                        open3d.pipelines.registration.ICPConvergenceCriteria(max_iteration=500))\n",
    "    \n",
    "                    if iter2.inlier_rmse < best_rmse:\n",
    "                        best_iter = iter2\n",
    "                        best_rmse = iter2.inlier_rmse\n",
    "            try:\n",
    "                result = inv(best_iter.transformation)\n",
    "            except:\n",
    "                result = inv(best_iter.transformation + 0.00001*np.random.rand(4, 4))\n",
    "            \n",
    "            values.append(result.tolist())\n",
    "            name_id += 1\n",
    "\n",
    "    inner = {'poses_world': values}\n",
    "    out[p] = inner"
   ]
  },
  {
   "cell_type": "code",
   "execution_count": null,
   "id": "045c664e",
   "metadata": {},
   "outputs": [],
   "source": [
    "import json\n",
    "with open('v2_layer18090.json', 'w') as outfile: \n",
    "    json.dump(out, outfile)"
   ]
  },
  {
   "cell_type": "code",
   "execution_count": null,
   "id": "c957c7cd",
   "metadata": {},
   "outputs": [],
   "source": []
  },
  {
   "cell_type": "code",
   "execution_count": null,
   "id": "27ac48ad",
   "metadata": {},
   "outputs": [],
   "source": []
  },
  {
   "cell_type": "code",
   "execution_count": 8,
   "id": "852985e4",
   "metadata": {},
   "outputs": [
    {
     "data": {
      "text/plain": [
       "(225, 400)"
      ]
     },
     "execution_count": 8,
     "metadata": {},
     "output_type": "execute_result"
    }
   ],
   "source": [
    "pred.shape"
   ]
  },
  {
   "cell_type": "code",
   "execution_count": 9,
   "id": "fae82ade",
   "metadata": {},
   "outputs": [
    {
     "data": {
      "text/plain": [
       "array([[80, 80, 80, ..., 80, 80, 80],\n",
       "       [80, 80, 80, ..., 80, 80, 80],\n",
       "       [80, 80, 80, ..., 80, 80, 80],\n",
       "       ...,\n",
       "       [80, 80, 80, ..., 81, 81, 81],\n",
       "       [80, 80, 80, ..., 81, 81, 81],\n",
       "       [80, 80, 80, ..., 81, 81, 81]], dtype=int64)"
      ]
     },
     "execution_count": 9,
     "metadata": {},
     "output_type": "execute_result"
    }
   ],
   "source": [
    "pred"
   ]
  },
  {
   "cell_type": "code",
   "execution_count": 15,
   "id": "e9c3d5b4",
   "metadata": {},
   "outputs": [],
   "source": [
    "import numpy as np\n",
    "im = Image.fromarray(pred.astype(np.uint8))\n",
    "#im.save(\"filename.jpeg\")"
   ]
  },
  {
   "cell_type": "code",
   "execution_count": 46,
   "id": "9de10f8c",
   "metadata": {},
   "outputs": [
    {
     "data": {
      "image/png": "[encoded data removed]",
      "text/plain": [
       "<PIL.Image.Image image mode=L size=800x450 at 0x27942111D48>"
      ]
     },
     "execution_count": 46,
     "metadata": {},
     "output_type": "execute_result"
    }
   ],
   "source": [
    "from PIL import Image\n",
    "im.resize((800, 450), resample=Image.NEAREST)"
   ]
  },
  {
   "cell_type": "code",
   "execution_count": 17,
   "id": "b39c7665",
   "metadata": {},
   "outputs": [],
   "source": [
    "im.save(\"test.png\")"
   ]
  },
  {
   "cell_type": "code",
   "execution_count": null,
   "id": "74a17ce8",
   "metadata": {},
   "outputs": [],
   "source": []
  },
  {
   "cell_type": "code",
   "execution_count": null,
   "id": "189c12b2",
   "metadata": {},
   "outputs": [],
   "source": []
  },
  {
   "cell_type": "code",
   "execution_count": 9,
   "id": "59377b4a",
   "metadata": {},
   "outputs": [
    {
     "data": {
      "application/vnd.jupyter.widget-view+json": {
       "model_id": "2ad8167861164841be8ce4f078809b67",
       "version_major": 2,
       "version_minor": 0
      },
      "text/plain": [
       "0it [00:00, ?it/s]"
      ]
     },
     "metadata": {},
     "output_type": "display_data"
    },
    {
     "name": "stdout",
     "output_type": "stream",
     "text": [
      "mIOU for class class_choice: 0.8631334694100762\n"
     ]
    }
   ],
   "source": [
    "exp.test()"
   ]
  },
  {
   "cell_type": "code",
   "execution_count": 10,
   "id": "fdc2fcaf",
   "metadata": {},
   "outputs": [
    {
     "data": {
      "application/vnd.jupyter.widget-view+json": {
       "model_id": "d3e479bb376a44eb8c62e0b7efc927ac",
       "version_major": 2,
       "version_minor": 0
      },
      "text/plain": [
       "0it [00:00, ?it/s]"
      ]
     },
     "metadata": {},
     "output_type": "display_data"
    },
    {
     "name": "stdout",
     "output_type": "stream",
     "text": [
      "[ 3  8 30 31 35 42 44 47 48 49 51 52 55 56 58 59 60 61 62 63 64 65 67 68\n",
      " 69 70 72 73 75 79 80 81]\n"
     ]
    }
   ],
   "source": [
    "pred, target = exp.generate()"
   ]
  },
  {
   "cell_type": "code",
   "execution_count": 11,
   "id": "a1143515",
   "metadata": {},
   "outputs": [],
   "source": [
    "target = target[0]"
   ]
  },
  {
   "cell_type": "code",
   "execution_count": 12,
   "id": "dcf73b95",
   "metadata": {},
   "outputs": [],
   "source": [
    "pred = pred[:2000]"
   ]
  },
  {
   "cell_type": "code",
   "execution_count": 13,
   "id": "7514dc77",
   "metadata": {},
   "outputs": [
    {
     "data": {
      "text/plain": [
       "(2000, 82)"
      ]
     },
     "execution_count": 13,
     "metadata": {},
     "output_type": "execute_result"
    }
   ],
   "source": [
    "pred.shape"
   ]
  },
  {
   "cell_type": "code",
   "execution_count": 15,
   "id": "e0c544a2",
   "metadata": {},
   "outputs": [
    {
     "data": {
      "text/plain": [
       "{14: 8, 30: 11, 51: 7, 52: 11, 58: 28, 79: 144, 80: 3232, 81: 1559}"
      ]
     },
     "execution_count": 15,
     "metadata": {},
     "output_type": "execute_result"
    }
   ],
   "source": [
    "import numpy as np\n",
    "unique, counts = np.unique(target, return_counts=True)\n",
    "dict(zip(unique, counts))"
   ]
  },
  {
   "cell_type": "code",
   "execution_count": 16,
   "id": "2cff4294",
   "metadata": {},
   "outputs": [
    {
     "data": {
      "text/plain": [
       "array([30, 35, 47, 51, 52, 55, 58, 79, 80, 81], dtype=int64)"
      ]
     },
     "execution_count": 16,
     "metadata": {},
     "output_type": "execute_result"
    }
   ],
   "source": [
    "np.unique(np.argmax(pred, axis=1))"
   ]
  },
  {
   "cell_type": "code",
   "execution_count": null,
   "id": "73814315",
   "metadata": {},
   "outputs": [],
   "source": []
  },
  {
   "cell_type": "code",
   "execution_count": 18,
   "id": "80d739dd",
   "metadata": {},
   "outputs": [
    {
     "data": {
      "text/plain": [
       "array([79, 80, 81], dtype=int64)"
      ]
     },
     "execution_count": 18,
     "metadata": {},
     "output_type": "execute_result"
    }
   ],
   "source": [
    "import numpy as np\n",
    "np.unique(np.argmax(pred, axis=1))"
   ]
  },
  {
   "cell_type": "code",
   "execution_count": 50,
   "id": "369d3cf0",
   "metadata": {},
   "outputs": [
    {
     "data": {
      "text/plain": [
       "32061"
      ]
     },
     "execution_count": 50,
     "metadata": {},
     "output_type": "execute_result"
    }
   ],
   "source": [
    "del exp\n",
    "import gc\n",
    "gc.collect() "
   ]
  },
  {
   "cell_type": "code",
   "execution_count": null,
   "id": "b8af1993",
   "metadata": {},
   "outputs": [],
   "source": []
  }
 ],
 "metadata": {
  "kernelspec": {
   "display_name": "Python 3 (ipykernel)",
   "language": "python",
   "name": "python3"
  },
  "language_info": {
   "codemirror_mode": {
    "name": "ipython",
    "version": 3
   },
   "file_extension": ".py",
   "mimetype": "text/x-python",
   "name": "python",
   "nbconvert_exporter": "python",
   "pygments_lexer": "ipython3",
   "version": "3.7.11"
  }
 },
 "nbformat": 4,
 "nbformat_minor": 5
}
